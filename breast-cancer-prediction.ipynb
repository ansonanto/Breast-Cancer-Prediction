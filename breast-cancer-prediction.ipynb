{
 "cells": [
  {
   "cell_type": "code",
   "execution_count": 1,
   "metadata": {
    "_cell_guid": "b1076dfc-b9ad-4769-8c92-a6c4dae69d19",
    "_uuid": "8f2839f25d086af736a60e9eeb907d3b93b6e0e5",
    "execution": {
     "iopub.execute_input": "2021-10-11T17:42:02.530829Z",
     "iopub.status.busy": "2021-10-11T17:42:02.530371Z",
     "iopub.status.idle": "2021-10-11T17:42:04.391153Z",
     "shell.execute_reply": "2021-10-11T17:42:04.390075Z",
     "shell.execute_reply.started": "2021-10-11T17:42:02.530719Z"
    }
   },
   "outputs": [],
   "source": [
    "# manipulation data\n",
    "import pandas as pd\n",
    "import numpy as np\n",
    "\n",
    "#visualiation data\n",
    "import matplotlib.pyplot as plt\n",
    "import seaborn as sns \n",
    "import matplotlib\n",
    "import plotly.graph_objects as go\n",
    "import plotly.express as px\n",
    "\n",
    "#default theme\n",
    "sns.set(context='notebook', style='darkgrid', palette='colorblind', font='sans-serif', font_scale=1, rc=None)\n",
    "matplotlib.rcParams['figure.figsize'] =[8,8]\n",
    "matplotlib.rcParams.update({'font.size': 15})\n",
    "matplotlib.rcParams['font.family'] = 'sans-serif'"
   ]
  },
  {
   "cell_type": "code",
   "execution_count": 2,
   "metadata": {
    "execution": {
     "iopub.execute_input": "2021-10-11T17:42:06.823317Z",
     "iopub.status.busy": "2021-10-11T17:42:06.822931Z",
     "iopub.status.idle": "2021-10-11T17:42:06.905651Z",
     "shell.execute_reply": "2021-10-11T17:42:06.904754Z",
     "shell.execute_reply.started": "2021-10-11T17:42:06.823281Z"
    }
   },
   "outputs": [],
   "source": [
    "train = pd.read_csv('../input/breast-cancer-wisconsin-data/data.csv')\n",
    "train.head()"
   ]
  },
  {
   "cell_type": "code",
   "execution_count": 3,
   "metadata": {
    "execution": {
     "iopub.execute_input": "2021-10-11T17:42:09.358530Z",
     "iopub.status.busy": "2021-10-11T17:42:09.358158Z",
     "iopub.status.idle": "2021-10-11T17:42:09.380468Z",
     "shell.execute_reply": "2021-10-11T17:42:09.379591Z",
     "shell.execute_reply.started": "2021-10-11T17:42:09.358497Z"
    }
   },
   "outputs": [],
   "source": [
    "train.info()"
   ]
  },
  {
   "cell_type": "code",
   "execution_count": 4,
   "metadata": {
    "execution": {
     "iopub.execute_input": "2021-10-11T17:42:16.907088Z",
     "iopub.status.busy": "2021-10-11T17:42:16.906712Z",
     "iopub.status.idle": "2021-10-11T17:42:16.912866Z",
     "shell.execute_reply": "2021-10-11T17:42:16.911994Z",
     "shell.execute_reply.started": "2021-10-11T17:42:16.907051Z"
    }
   },
   "outputs": [],
   "source": [
    "train.shape"
   ]
  },
  {
   "cell_type": "code",
   "execution_count": 5,
   "metadata": {
    "execution": {
     "iopub.execute_input": "2021-10-11T17:43:11.482943Z",
     "iopub.status.busy": "2021-10-11T17:43:11.482434Z",
     "iopub.status.idle": "2021-10-11T17:43:11.598349Z",
     "shell.execute_reply": "2021-10-11T17:43:11.597257Z",
     "shell.execute_reply.started": "2021-10-11T17:43:11.482900Z"
    }
   },
   "outputs": [],
   "source": [
    "train.describe(include='all')"
   ]
  },
  {
   "cell_type": "code",
   "execution_count": 6,
   "metadata": {
    "execution": {
     "iopub.execute_input": "2021-10-11T17:43:20.184586Z",
     "iopub.status.busy": "2021-10-11T17:43:20.184044Z",
     "iopub.status.idle": "2021-10-11T17:43:20.204721Z",
     "shell.execute_reply": "2021-10-11T17:43:20.203724Z",
     "shell.execute_reply.started": "2021-10-11T17:43:20.184549Z"
    }
   },
   "outputs": [],
   "source": [
    "missing_values=train.isnull().sum()\n",
    "percent_missing = train.isnull().sum()/train.shape[0]*100\n",
    "\n",
    "value = {\n",
    "    'missing_values ':missing_values,\n",
    "    'percent_missing %':percent_missing\n",
    "}\n",
    "frame=pd.DataFrame(value)\n",
    "frame"
   ]
  },
  {
   "cell_type": "code",
   "execution_count": 7,
   "metadata": {
    "execution": {
     "iopub.execute_input": "2021-10-11T17:43:26.664066Z",
     "iopub.status.busy": "2021-10-11T17:43:26.663713Z",
     "iopub.status.idle": "2021-10-11T17:43:26.698144Z",
     "shell.execute_reply": "2021-10-11T17:43:26.697060Z",
     "shell.execute_reply.started": "2021-10-11T17:43:26.664033Z"
    }
   },
   "outputs": [],
   "source": [
    "train=train.drop('Unnamed: 32',axis=1)\n",
    "train.head()"
   ]
  },
  {
   "cell_type": "code",
   "execution_count": 8,
   "metadata": {
    "execution": {
     "iopub.execute_input": "2021-10-11T17:43:33.350815Z",
     "iopub.status.busy": "2021-10-11T17:43:33.350279Z",
     "iopub.status.idle": "2021-10-11T17:43:33.357436Z",
     "shell.execute_reply": "2021-10-11T17:43:33.356643Z",
     "shell.execute_reply.started": "2021-10-11T17:43:33.350768Z"
    }
   },
   "outputs": [],
   "source": [
    "# drop the id columns\n",
    "train=train.drop('id',axis=1)"
   ]
  },
  {
   "cell_type": "code",
   "execution_count": 9,
   "metadata": {
    "execution": {
     "iopub.execute_input": "2021-10-11T17:43:37.262566Z",
     "iopub.status.busy": "2021-10-11T17:43:37.261950Z",
     "iopub.status.idle": "2021-10-11T17:43:37.400908Z",
     "shell.execute_reply": "2021-10-11T17:43:37.400189Z",
     "shell.execute_reply.started": "2021-10-11T17:43:37.262528Z"
    }
   },
   "outputs": [],
   "source": [
    "# transformation of type of the target value to numerical \n",
    "from sklearn import preprocessing\n",
    "le = preprocessing.LabelEncoder()\n",
    "train.diagnosis = le.fit_transform(train.diagnosis)\n",
    "train.diagnosis\n"
   ]
  },
  {
   "cell_type": "code",
   "execution_count": 10,
   "metadata": {
    "execution": {
     "iopub.execute_input": "2021-10-11T17:43:44.868572Z",
     "iopub.status.busy": "2021-10-11T17:43:44.867941Z",
     "iopub.status.idle": "2021-10-11T17:43:45.085887Z",
     "shell.execute_reply": "2021-10-11T17:43:45.085121Z",
     "shell.execute_reply.started": "2021-10-11T17:43:44.868524Z"
    }
   },
   "outputs": [],
   "source": [
    "train.corr().style.background_gradient(cmap='coolwarm').set_precision(2)"
   ]
  },
  {
   "cell_type": "code",
   "execution_count": 11,
   "metadata": {
    "execution": {
     "iopub.execute_input": "2021-10-11T17:44:02.230073Z",
     "iopub.status.busy": "2021-10-11T17:44:02.229693Z",
     "iopub.status.idle": "2021-10-11T17:44:02.288593Z",
     "shell.execute_reply": "2021-10-11T17:44:02.287595Z",
     "shell.execute_reply.started": "2021-10-11T17:44:02.230038Z"
    }
   },
   "outputs": [],
   "source": [
    "from sklearn.model_selection import train_test_split\n",
    "from sklearn import metrics\n",
    "from sklearn.metrics import accuracy_score"
   ]
  },
  {
   "cell_type": "code",
   "execution_count": 12,
   "metadata": {
    "execution": {
     "iopub.execute_input": "2021-10-11T17:44:03.741074Z",
     "iopub.status.busy": "2021-10-11T17:44:03.740727Z",
     "iopub.status.idle": "2021-10-11T17:44:03.746891Z",
     "shell.execute_reply": "2021-10-11T17:44:03.746077Z",
     "shell.execute_reply.started": "2021-10-11T17:44:03.741043Z"
    }
   },
   "outputs": [],
   "source": [
    "x=train.drop('diagnosis',axis=1)\n",
    "y=train.diagnosis"
   ]
  },
  {
   "cell_type": "code",
   "execution_count": 13,
   "metadata": {
    "execution": {
     "iopub.execute_input": "2021-10-11T17:44:05.335538Z",
     "iopub.status.busy": "2021-10-11T17:44:05.334867Z",
     "iopub.status.idle": "2021-10-11T17:44:05.341463Z",
     "shell.execute_reply": "2021-10-11T17:44:05.340057Z",
     "shell.execute_reply.started": "2021-10-11T17:44:05.335489Z"
    }
   },
   "outputs": [],
   "source": [
    "print(x.shape)\n",
    "print(y.shape)"
   ]
  },
  {
   "cell_type": "code",
   "execution_count": 14,
   "metadata": {
    "execution": {
     "iopub.execute_input": "2021-10-11T17:44:06.882725Z",
     "iopub.status.busy": "2021-10-11T17:44:06.882369Z",
     "iopub.status.idle": "2021-10-11T17:44:06.888981Z",
     "shell.execute_reply": "2021-10-11T17:44:06.888141Z",
     "shell.execute_reply.started": "2021-10-11T17:44:06.882695Z"
    }
   },
   "outputs": [],
   "source": [
    "x_train,x_test,y_train,y_test = train_test_split(x,y,test_size=0.3)"
   ]
  },
  {
   "cell_type": "code",
   "execution_count": 15,
   "metadata": {
    "execution": {
     "iopub.execute_input": "2021-10-11T17:44:12.338295Z",
     "iopub.status.busy": "2021-10-11T17:44:12.337937Z",
     "iopub.status.idle": "2021-10-11T17:44:12.351854Z",
     "shell.execute_reply": "2021-10-11T17:44:12.350696Z",
     "shell.execute_reply.started": "2021-10-11T17:44:12.338262Z"
    }
   },
   "outputs": [],
   "source": [
    "from sklearn.preprocessing import StandardScaler\n",
    "sc = StandardScaler()\n",
    "x_train = sc.fit_transform(x_train)\n",
    "x_test = sc.transform(x_test)"
   ]
  },
  {
   "cell_type": "code",
   "execution_count": 16,
   "metadata": {
    "execution": {
     "iopub.execute_input": "2021-10-11T17:44:29.783975Z",
     "iopub.status.busy": "2021-10-11T17:44:29.783634Z",
     "iopub.status.idle": "2021-10-11T17:44:39.526435Z",
     "shell.execute_reply": "2021-10-11T17:44:39.525310Z",
     "shell.execute_reply.started": "2021-10-11T17:44:29.783945Z"
    }
   },
   "outputs": [],
   "source": [
    "np.random.seed(0)\n",
    "import tensorflow as tf\n",
    "\n",
    "# Initialising the ANN\n",
    "\n",
    "ann = tf.keras.models.Sequential()\n",
    "\n",
    "# Adding the input layer and the first hidden layer\n",
    "\n",
    "ann.add(tf.keras.layers.Dense(units = 7, activation = 'relu'))\n",
    "\n",
    "# Adding the second hidden layer\n",
    "\n",
    "ann.add(tf.keras.layers.Dense(units = 7, activation = 'relu'))\n",
    "\n",
    "# Adding the third hidden layer\n",
    "\n",
    "ann.add(tf.keras.layers.Dense(units = 7, activation = 'relu'))\n",
    "\n",
    "# Adding the fourth hidden layer\n",
    "\n",
    "ann.add(tf.keras.layers.Dense(units = 7, activation = 'relu'))\n",
    "\n",
    "# Adding the output layer\n",
    "\n",
    "ann.add(tf.keras.layers.Dense(units = 1, activation = 'sigmoid'))\n",
    "\n",
    "# Compiling the ANN\n",
    "\n",
    "ann.compile(optimizer = 'adam', loss = 'binary_crossentropy' , metrics = ['accuracy'] )\n",
    "\n",
    "# Training the ANN on the training set\n",
    "\n",
    "ann.fit(x_train, y_train, batch_size = 16, epochs = 100)"
   ]
  },
  {
   "cell_type": "code",
   "execution_count": 17,
   "metadata": {
    "execution": {
     "iopub.execute_input": "2021-10-11T17:44:39.528279Z",
     "iopub.status.busy": "2021-10-11T17:44:39.527977Z",
     "iopub.status.idle": "2021-10-11T17:44:39.650320Z",
     "shell.execute_reply": "2021-10-11T17:44:39.649296Z",
     "shell.execute_reply.started": "2021-10-11T17:44:39.528252Z"
    }
   },
   "outputs": [],
   "source": [
    "# Predicting the test set results\n",
    "\n",
    "y_pred = ann.predict(x_test)\n",
    "y_pred = (y_pred > 0.9)\n",
    "np.set_printoptions()"
   ]
  },
  {
   "cell_type": "code",
   "execution_count": 18,
   "metadata": {
    "execution": {
     "iopub.execute_input": "2021-10-11T17:44:39.652496Z",
     "iopub.status.busy": "2021-10-11T17:44:39.652047Z",
     "iopub.status.idle": "2021-10-11T17:44:40.017455Z",
     "shell.execute_reply": "2021-10-11T17:44:40.015719Z",
     "shell.execute_reply.started": "2021-10-11T17:44:39.652438Z"
    }
   },
   "outputs": [],
   "source": [
    "# Making the confusion matrix, calculating accuracy_score \n",
    "\n",
    "from sklearn.metrics import confusion_matrix, accuracy_score\n",
    "\n",
    "# confusion matrix\n",
    "cm = confusion_matrix(y_test,y_pred)\n",
    "print(\"Confusion Matrix\")\n",
    "print(cm)\n",
    "print()\n",
    "\n",
    "# accuracy\n",
    "ac_ann = accuracy_score(y_test,y_pred)\n",
    "print(\"Accuracy\")\n",
    "print(ac_ann)\n",
    "mylist.append(ac_ann)"
   ]
  },
  {
   "cell_type": "code",
   "execution_count": null,
   "metadata": {},
   "outputs": [],
   "source": []
  }
 ],
 "metadata": {
  "kernelspec": {
   "display_name": "Python 3",
   "language": "python",
   "name": "python3"
  },
  "language_info": {
   "codemirror_mode": {
    "name": "ipython",
    "version": 3
   },
   "file_extension": ".py",
   "mimetype": "text/x-python",
   "name": "python",
   "nbconvert_exporter": "python",
   "pygments_lexer": "ipython3",
   "version": "3.6.5"
  }
 },
 "nbformat": 4,
 "nbformat_minor": 4
}
